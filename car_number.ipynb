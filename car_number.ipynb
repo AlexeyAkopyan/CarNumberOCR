{
 "cells": [
  {
   "cell_type": "markdown",
   "id": "2c0d87bc",
   "metadata": {
    "pycharm": {
     "name": "#%% md\n"
    }
   },
   "source": [
    "### Вступительный экзамен DL Advanced Весна'23. Программирование\n",
    "\n",
    "Данные взяты [отсюда](https://disk.yandex.ru/d/adjYzzNayB1pag).\n",
    "\n",
    "\n",
    "При решении задания в качестве источника использовался [следующий туториал](https://deepayan137.github.io/blog/markdown/2020/08/29/building-ocr.html). Подход, реализованный в данной работе, основан на раздельном распознавании сокращенного названия провинции (первого иероглифа в номере) и оставшейся части номера, состоящей из заглавных латинских букв и цифр.\n",
    "\n",
    "\n",
    "В данной работе подсчитыватся только доля правильных ответов по словам и по символам. CER не считалось, так как количество предсказываемых символов фиксированно и равно 7."
   ]
  },
  {
   "cell_type": "code",
   "execution_count": 1,
   "id": "6ef70d31",
   "metadata": {
    "pycharm": {
     "name": "#%%\n"
    }
   },
   "outputs": [],
   "source": [
    "import numpy as np\n",
    "import zipfile\n",
    "import cv2\n",
    "import os\n",
    "import io\n",
    "from sklearn.model_selection import train_test_split\n",
    "from torch.utils.data import DataLoader, Dataset\n",
    "import torch\n",
    "import torch.nn as nn\n",
    "import torch.nn.functional as F\n",
    "from torch import optim\n",
    "from torch.nn.utils.clip_grad import clip_grad_norm_\n",
    "from torchvision import transforms as T\n",
    "from tqdm.notebook import tqdm\n",
    "from matplotlib import pyplot as plt\n",
    "\n",
    "import random\n",
    "from datetime import timedelta\n",
    "import time\n",
    "from sklearn.metrics import accuracy_score\n",
    "import yaml"
   ]
  },
  {
   "cell_type": "code",
   "execution_count": 2,
   "id": "38aa51b5",
   "metadata": {
    "pycharm": {
     "name": "#%%\n"
    }
   },
   "outputs": [],
   "source": [
    "with open(\"cfg.yaml\", \"r\", encoding=\"utf-8\") as f:\n",
    "    cfg = yaml.load(f, Loader=yaml.FullLoader)\n",
    "\n",
    "\n",
    "DIR = cfg[\"data_path\"]\n",
    "if DIR.endswith(\".zip\"):\n",
    "    DIR = DIR[:-4]"
   ]
  },
  {
   "cell_type": "code",
   "execution_count": null,
   "id": "93dbf7fa",
   "metadata": {
    "pycharm": {
     "name": "#%%\n"
    }
   },
   "outputs": [],
   "source": [
    "# Разархивирование данных\n",
    "\n",
    "with zipfile.ZipFile(f\"{DIR}.zip\", 'r') as zf:\n",
    "    zf.extractall(\"\")\n",
    "\n",
    "# Выделениие валидационной выборки\n",
    "\n",
    "os.mkdir(f\"{DIR}/val/\")\n",
    "train_filenames = os.listdir(f\"{DIR}/train\")\n",
    "\n",
    "train_filenames, val_filenames = train_test_split(train_filenames, test_size=0.15, shuffle=True, random_state=42)\n",
    "\n",
    "for filename in val_filenames:\n",
    "    os.rename(f\"{DIR}/train/{filename}\", f\"{DIR}/val/{filename}\")\n",
    "    \n",
    "# Сжатие полученных трех выборок \n",
    "\n",
    "with zipfile.ZipFile(f\"{DIR}.zip\", \"w\") as zf:\n",
    "    for dirname, subdirs, files in os.walk(f\"{DIR}\"):\n",
    "        zf.write(dirname)\n",
    "        for filename in tqdm(files):\n",
    "            zf.write(os.path.join(dirname, filename))\n",
    "\n",
    "# Удаление разархивированного файла\n",
    "\n",
    "for split in \"train\", \"val\", \"test\":\n",
    "    for filename in os.listdir(f\"{DIR}/{split}\"):\n",
    "        os.remove(f\"{DIR}/{split}/{filename}\")\n",
    "    os.rmdir(f\"{DIR}/{split}\")\n",
    "os.rmdir(DIR)"
   ]
  },
  {
   "cell_type": "code",
   "execution_count": 3,
   "id": "de95fa35",
   "metadata": {
    "pycharm": {
     "name": "#%%\n"
    }
   },
   "outputs": [],
   "source": [
    "tfms = T.Compose([\n",
    "    T.ToTensor(),\n",
    "    T.ConvertImageDtype(torch.uint8),\n",
    "    T.CenterCrop((cfg[\"preprocess\"][\"img_height\"], cfg[\"preprocess\"][\"img_width\"])),\n",
    "])"
   ]
  },
  {
   "cell_type": "code",
   "execution_count": 4,
   "id": "d55e45c9",
   "metadata": {
    "pycharm": {
     "name": "#%%\n"
    }
   },
   "outputs": [],
   "source": [
    "# Функция для выделение метки из названия файла и перевод в правильную кодировку\n",
    "\n",
    "def label_filter(name):\n",
    "    return name[name.find(\"-\", 9) + 1:-4].encode('cp437').decode('utf-8')"
   ]
  },
  {
   "cell_type": "code",
   "execution_count": 5,
   "id": "80928d1f",
   "metadata": {
    "pycharm": {
     "name": "#%%\n"
    }
   },
   "outputs": [],
   "source": [
    "provinces = cfg[\"provinces\"]  # список всех сокращенных названий провинций Китая\n",
    "\n",
    "vocab = [chr(idx) for idx in list(range(ord(\"A\"), ord(\"Z\") + 1)) + list(range(ord(\"0\"), ord(\"9\") + 1))]"
   ]
  },
  {
   "cell_type": "code",
   "execution_count": 6,
   "id": "ec402018",
   "metadata": {
    "pycharm": {
     "name": "#%%\n"
    }
   },
   "outputs": [],
   "source": [
    "province_map = {province: idx for idx, province in enumerate(provinces)}\n",
    "symbol_map = {symbol: idx for idx, symbol in enumerate(vocab)}\n",
    "\n",
    "province_map_rev = {idx: province for idx, province in enumerate(provinces)}\n",
    "symbol_map_rev = {idx: symbol for idx, symbol in enumerate(vocab)}"
   ]
  },
  {
   "cell_type": "code",
   "execution_count": 7,
   "id": "51c80255",
   "metadata": {
    "pycharm": {
     "name": "#%%\n"
    }
   },
   "outputs": [],
   "source": [
    "# Класс для чтения данных из архивированного файла\n",
    "\n",
    "def convert_name_to_labels(name):\n",
    "    labels = [province_map[name[0]]] + [symbol_map[symbol] for symbol in name[1:]]\n",
    "    return labels\n",
    "\n",
    "def convert_labels_to_name(labels):\n",
    "    name = \"\".join([province_map_rev[labels[0]]] + [symbol_map_rev[i] for i in labels[1:]])\n",
    "    return name\n",
    "\n",
    "def collate_fn(batch):\n",
    "    imgs = torch.cat([item[\"img\"].unsqueeze(0) for item in batch])\n",
    "    labels = torch.cat([torch.LongTensor(convert_name_to_labels(item[\"label\"])).unsqueeze(0) for item in batch], dim=0)\n",
    "    return {\"img\": imgs, \"label\": labels}\n",
    "\n",
    "class ZipDataset(Dataset):\n",
    "    def __init__(self, path, label_filter=None, prefix=\"\", transform=None):\n",
    "        f = open(path, 'rb')\n",
    "        self.zip_content = f.read()\n",
    "        f.close()\n",
    "        self.zip_file = zipfile.ZipFile(io.BytesIO(self.zip_content), 'r')\n",
    "        self.label_filter = label_filter\n",
    "        self.prefix = prefix\n",
    "        self.name_list = list(filter(lambda filename: filename.endswith(\".jpg\") and filename.startswith(self.prefix),\n",
    "                              self.zip_file.namelist()))\n",
    "        self.transform = transform\n",
    "\n",
    "    def __getitem__(self, key):\n",
    "        name = self.name_list[key]\n",
    "        buf = self.zip_file.read(name=name)\n",
    "        img = cv2.imdecode(np.frombuffer(buf, dtype=np.uint8), cv2.IMREAD_GRAYSCALE)\n",
    "        if self.transform is not None:\n",
    "            img = self.transform(img)\n",
    "        if self.label_filter:\n",
    "            name = label_filter(name)\n",
    "        img = img / 255\n",
    "        return {\"img\": img, \"label\": name}\n",
    "\n",
    "    def __len__(self):\n",
    "        return len(self.name_list)\n"
   ]
  },
  {
   "cell_type": "code",
   "execution_count": 8,
   "id": "d9ac632a",
   "metadata": {
    "pycharm": {
     "name": "#%%\n"
    }
   },
   "outputs": [],
   "source": [
    "batch_size = cfg[\"training\"][\"batch_size\"]\n",
    "\n",
    "train_dataset = ZipDataset(cfg[\"data_path\"], prefix=f\"{DIR}/train\", label_filter=label_filter, transform=tfms)\n",
    "train_dataloader = DataLoader(train_dataset, batch_size=batch_size, shuffle=True, collate_fn=collate_fn)\n",
    "\n",
    "val_dataset = ZipDataset(cfg[\"data_path\"], prefix=f\"{DIR}/val\", label_filter=label_filter, transform=tfms)\n",
    "val_dataloader = DataLoader(val_dataset, batch_size=batch_size, shuffle=False, collate_fn=collate_fn)\n",
    "\n",
    "test_dataset = ZipDataset(cfg[\"data_path\"], prefix=f\"{DIR}/test\", label_filter=label_filter, transform=tfms)\n",
    "test_dataloader = DataLoader(test_dataset, batch_size=batch_size, shuffle=False, collate_fn=collate_fn)"
   ]
  },
  {
   "cell_type": "markdown",
   "id": "a2871681",
   "metadata": {
    "pycharm": {
     "name": "#%% md\n"
    }
   },
   "source": [
    "В основе реализованной в данной работе модели лежит модель из туториала.\n",
    "Изменения:\n",
    "    - Только один слой двунаправленной LSTM\n",
    "    - Добавлены полносвязные слои для сжатия по ширине и высоте\n",
    "    - Выход рекуррентного слоя разбивается на два. Первый выход преобразуется в распределение над словарем названий провинций, второй - в распределение на словарем латинских заглавных букв и цифр\n"
   ]
  },
  {
   "cell_type": "code",
   "execution_count": 9,
   "id": "2176f2f7",
   "metadata": {
    "pycharm": {
     "name": "#%%\n"
    }
   },
   "outputs": [],
   "source": [
    "class BidirectionalLSTM(nn.Module):\n",
    "\n",
    "    def __init__(self, nIn, nHidden, nOut):\n",
    "        super(BidirectionalLSTM, self).__init__()\n",
    "        self.rnn = nn.LSTM(nIn, nHidden, bidirectional=True)\n",
    "        self.embedding_1 = nn.Linear(nHidden * 2, nOut[0])\n",
    "        self.embedding_2 = nn.Linear(nHidden * 2, nOut[1])\n",
    "        \n",
    "    def forward(self, input):\n",
    "        self.rnn.flatten_parameters()\n",
    "        recurrent, _ = self.rnn(input)\n",
    "        recurrent = [recurrent[0], recurrent[1:]]\n",
    "        t, b, h = recurrent[1].size()\n",
    "        t_rec = recurrent[1].view(t * b, h)\n",
    "        output = [self.embedding_1(recurrent[0]).view(1, b, -1), self.embedding_2(t_rec).view(t, b, -1)]\n",
    "        return output\n",
    "\n",
    "class CRNN(nn.Module):\n",
    "\n",
    "    def __init__(self, opt, leakyRelu=False):\n",
    "        super(CRNN, self).__init__()\n",
    "\n",
    "        ks = [3, 3, 3, 3, 3, 3, 2]\n",
    "        ps = [1, 1, 1, 1, 1, 1, 0]\n",
    "        ss = [1, 1, 1, 1, 1, 1, 1]\n",
    "        nm = [64, 128, 256, 256, 512, 512, 512]\n",
    "\n",
    "        cnn = nn.Sequential()\n",
    "\n",
    "        def convRelu(i, batchNormalization=False):\n",
    "            nIn = opt['nChannels'] if i == 0 else nm[i - 1]\n",
    "            nOut = nm[i]\n",
    "            cnn.add_module('conv{0}'.format(i),\n",
    "                           nn.Conv2d(nIn, nOut, ks[i], ss[i], ps[i]))\n",
    "            if batchNormalization:\n",
    "                cnn.add_module('batchnorm{0}'.format(i), nn.BatchNorm2d(nOut))\n",
    "            if leakyRelu:\n",
    "                cnn.add_module('relu{0}'.format(i),\n",
    "                               nn.LeakyReLU(0.2, inplace=True))\n",
    "            else:\n",
    "                cnn.add_module('relu{0}'.format(i), nn.ReLU(True))\n",
    "\n",
    "        convRelu(0)\n",
    "        cnn.add_module('pooling{0}'.format(0), nn.MaxPool2d((2, 2), 2))\n",
    "        convRelu(1)\n",
    "        cnn.add_module('pooling{0}'.format(1), nn.MaxPool2d((2, 2), 2))\n",
    "        convRelu(2, True)\n",
    "        convRelu(3)\n",
    "        cnn.add_module('pooling{0}'.format(2),\n",
    "                       nn.MaxPool2d((2, 2), (2, 1), (0, 1)))\n",
    "        convRelu(4, True)\n",
    "        convRelu(5)\n",
    "        cnn.add_module('pooling{0}'.format(3),\n",
    "                       nn.MaxPool2d((2, 2), (2, 1), (0, 1)))\n",
    "        convRelu(6, True)\n",
    "        \n",
    "        self.cnn = cnn\n",
    "\n",
    "        self.rnn = BidirectionalLSTM(opt['nHidden']*2, opt['nHidden'], opt['nClasses'])\n",
    "        self.linear_h = nn.Linear(7, 1)\n",
    "        self.linear_w = nn.Linear(101, 7)\n",
    "\n",
    "    def forward(self, input):\n",
    "        conv = self.cnn(input)\n",
    "        conv = self.linear_w(conv)\n",
    "        conv = conv.permute(0, 1, 3, 2)\n",
    "        conv = self.linear_h(conv)\n",
    "        conv = conv.permute(0, 1, 3, 2)\n",
    "        conv = conv.squeeze(2)\n",
    "        conv = conv.permute(2, 0, 1)\n",
    "        output = self.rnn(conv)\n",
    "        output[0] = output[0].squeeze()\n",
    "        output[1] = output[1].transpose(1,0)\n",
    "        return output"
   ]
  },
  {
   "cell_type": "code",
   "execution_count": 10,
   "id": "c1e08046",
   "metadata": {
    "pycharm": {
     "name": "#%%\n"
    }
   },
   "outputs": [],
   "source": [
    "val_labels = torch.cat([batch[\"label\"] for batch in val_dataloader], dim=0)\n",
    "test_labels = torch.cat([batch[\"label\"] for batch in test_dataloader], dim=0)"
   ]
  },
  {
   "cell_type": "code",
   "execution_count": 11,
   "id": "d3a9a7d7",
   "metadata": {
    "pycharm": {
     "name": "#%%\n"
    }
   },
   "outputs": [],
   "source": [
    "weights = np.ones(len(provinces))\n",
    "labels, counts = np.unique(val_labels[:, 0], return_counts=True)\n",
    "\n",
    "weights[labels] /= counts\n",
    "weights /= weights.sum()\n",
    "weights = torch.Tensor(weights)"
   ]
  },
  {
   "cell_type": "code",
   "execution_count": 12,
   "id": "a260abc0",
   "metadata": {
    "pycharm": {
     "name": "#%%\n"
    }
   },
   "outputs": [],
   "source": [
    "device = torch.device(cfg[\"training\"][\"device\"])\n",
    "model = CRNN(cfg[\"model\"]).to(device)\n",
    "num_criterion = nn.CTCLoss(reduction=\"mean\", zero_infinity=True)\n",
    "province_criterion = nn.CrossEntropyLoss(weight=weights.to(device))\n",
    "optimizer = optim.Adam(model.parameters(), lr=cfg[\"training\"][\"lr\"])\n",
    "scheduler = optim.lr_scheduler.CosineAnnealingLR(optimizer, T_max=cfg[\"training\"][\"epochs\"])"
   ]
  },
  {
   "cell_type": "code",
   "execution_count": 13,
   "id": "f4a7d42b",
   "metadata": {
    "pycharm": {
     "name": "#%%\n"
    },
    "scrolled": true
   },
   "outputs": [
    {
     "name": "stdout",
     "output_type": "stream",
     "text": [
      "Training 1 epoch\n"
     ]
    },
    {
     "data": {
      "application/vnd.jupyter.widget-view+json": {
       "model_id": "d7c0be0d5f8044c79bd49650fa3f9297",
       "version_major": 2,
       "version_minor": 0
      },
      "text/plain": [
       "  0%|          | 0/1771 [00:00<?, ?it/s]"
      ]
     },
     "metadata": {},
     "output_type": "display_data"
    },
    {
     "name": "stdout",
     "output_type": "stream",
     "text": [
      "Mean loss:  3.495508072539146\n",
      "Training epoch took: 0:54:16\n",
      "\n",
      "Validation:\n"
     ]
    },
    {
     "data": {
      "application/vnd.jupyter.widget-view+json": {
       "model_id": "17075463dbb1468980bf95e9bbbe4e7b",
       "version_major": 2,
       "version_minor": 0
      },
      "text/plain": [
       "  0%|          | 0/313 [00:00<?, ?it/s]"
      ]
     },
     "metadata": {},
     "output_type": "display_data"
    },
    {
     "name": "stdout",
     "output_type": "stream",
     "text": [
      "Accuracy by word: 0.96\n",
      "Accuracy by char: 0.99\n",
      "Validation took: 0:03:08\n",
      "\n"
     ]
    }
   ],
   "source": [
    "seed = cfg[\"training\"][\"seed\"]\n",
    "\n",
    "random.seed = (seed)\n",
    "np.random.seed(seed)\n",
    "torch.manual_seed(seed)\n",
    "torch.cuda.manual_seed_all(seed)\n",
    "model.cuda()\n",
    "pred_sizes = (torch.ones(batch_size) * 6).long().to(device)\n",
    "\n",
    "train_losses = []\n",
    "val_losses = []\n",
    "\n",
    "for epoch in range(cfg[\"training\"][\"epochs\"]):\n",
    "    print(\"Training {} epoch\".format(epoch + 1))\n",
    "    start = time.time()\n",
    "    mean_loss = 0\n",
    "    model.train()\n",
    "    for step, batch in enumerate(tqdm(train_dataloader)):\n",
    "        # if (step + 1) % 200 == 0:\n",
    "        #     duration = timedelta(seconds=int(time.time() - start))\n",
    "        #     print('Batch {:>5,}  of  {:>5,}. Loss {:.3}  Time: {:}.'.format(step + 1, len(train_dataloader), mean_loss / step, duration))\n",
    "        \n",
    "        torch.cuda.empty_cache()\n",
    "        b_input = batch[\"img\"].to(device)\n",
    "        b_labels = batch[\"label\"].to(device)\n",
    "        model.zero_grad()\n",
    "        \n",
    "        province_logits, num_logits = model(b_input)\n",
    "        province_logits = F.softmax(province_logits, 1)\n",
    "        num_logits = F.log_softmax(num_logits, 2).transpose(0, 1)\n",
    "\n",
    "        \n",
    "        loss = province_criterion(province_logits, b_labels[:, 0])\n",
    "        loss += num_criterion(num_logits, b_labels[:, 1:], pred_sizes[:len(b_labels)], pred_sizes[:len(b_labels)])\n",
    "        \n",
    "        optimizer.zero_grad()\n",
    "        loss.backward()\n",
    "        \n",
    "        max_grad_norm = 0.05\n",
    "        clip_grad_norm_(model.parameters(), max_grad_norm)\n",
    "        optimizer.step()\n",
    "        mean_loss += loss.item()\n",
    "        \n",
    "    scheduler.step()\n",
    "    mean_loss = mean_loss / len(train_dataloader)\n",
    "    \n",
    "    train_losses.append(mean_loss)\n",
    "    print(\"Mean loss: \" , mean_loss)\n",
    "    print(\"Training epoch took:\" , timedelta(seconds=int(time.time() - start)))\n",
    "    torch.save(model, cfg[\"model_path\"])\n",
    "    print()\n",
    "    print(\"Validation:\")\n",
    "    model.eval()\n",
    "\n",
    "    start = time.time()\n",
    "    predictions = torch.Tensor().to(dtype=torch.int8)\n",
    "    val_loss = 0\n",
    "\n",
    "    for batch in tqdm(val_dataloader):\n",
    "\n",
    "        b_input = batch[\"img\"].to(device)\n",
    "        b_labels = batch[\"label\"].to(device)\n",
    "\n",
    "        with torch.no_grad():\n",
    "            province_logits, num_logits = model(b_input)\n",
    "            province_logits = F.softmax(province_logits, 1)\n",
    "            num_logits = F.log_softmax(num_logits, 2).transpose(0, 1)\n",
    "\n",
    "            loss = province_criterion(province_logits, b_labels[:, 0])\n",
    "            loss += num_criterion(num_logits, b_labels[:, 1:], pred_sizes[:len(b_labels)], pred_sizes[:len(b_labels)])\n",
    "\n",
    "        predictions = torch.cat((predictions, torch.cat((\n",
    "            province_logits.argmax(dim=1).view(-1, 1).cpu().detach(), \n",
    "            num_logits.transpose(0, 1).argmax(dim=-1).cpu().detach()\n",
    "            ), dim=1)), dim=0)\n",
    "        torch.cuda.empty_cache()\n",
    "\n",
    "    print(\"Accuracy by word: {:4.2f}\".format(np.equal(val_labels, predictions).all(axis=1).float().mean()))\n",
    "    print(\"Accuracy by char: {:4.2f}\".format(np.equal(val_labels, predictions).float().mean()))\n",
    "    val_losses.append(val_loss / len(val_dataloader))\n",
    "    print(\"Validation took: {:}\".format(timedelta(seconds = int(time.time() - start))))\n",
    "    print()"
   ]
  },
  {
   "cell_type": "code",
   "execution_count": 13,
   "id": "bba34ffb",
   "metadata": {
    "pycharm": {
     "name": "#%%\n"
    }
   },
   "outputs": [],
   "source": [
    "model = torch.load(cfg[\"model_path\"])"
   ]
  },
  {
   "cell_type": "code",
   "execution_count": 14,
   "id": "baa10e7f",
   "metadata": {
    "pycharm": {
     "name": "#%%\n"
    }
   },
   "outputs": [
    {
     "name": "stdout",
     "output_type": "stream",
     "text": [
      "Testing:\n"
     ]
    },
    {
     "data": {
      "application/vnd.jupyter.widget-view+json": {
       "model_id": "101fc60ecf4c47398a6a73e392309846",
       "version_major": 2,
       "version_minor": 0
      },
      "text/plain": [
       "  0%|          | 0/105 [00:00<?, ?it/s]"
      ]
     },
     "metadata": {},
     "output_type": "display_data"
    },
    {
     "name": "stdout",
     "output_type": "stream",
     "text": [
      "Accuracy by word: 0.91\n",
      "Accuracy by char: 0.98\n"
     ]
    }
   ],
   "source": [
    "print(\"Testing:\")\n",
    "model.eval()\n",
    "\n",
    "test_predictions = torch.Tensor().to(dtype=torch.int8)\n",
    "\n",
    "for batch in tqdm(test_dataloader):\n",
    "\n",
    "    b_input = batch[\"img\"].to(device)\n",
    "    b_labels = batch[\"label\"].to(device)\n",
    "\n",
    "    with torch.no_grad():\n",
    "        province_logits, num_logits = model(b_input)\n",
    "        province_logits = F.softmax(province_logits, 1)\n",
    "        num_logits = F.log_softmax(num_logits, 2).transpose(0, 1)\n",
    "\n",
    "    test_predictions = torch.cat((test_predictions, torch.cat((\n",
    "        province_logits.argmax(dim=1).view(-1, 1).cpu().detach(),\n",
    "        num_logits.transpose(0, 1).argmax(dim=-1).cpu().detach()\n",
    "        ), dim=1)), dim=0)\n",
    "    torch.cuda.empty_cache()\n",
    "\n",
    "print(\"Accuracy by word: {:4.2f}\".format(np.equal(test_labels, test_predictions).all(axis=1).float().mean()))\n",
    "print(\"Accuracy by char: {:4.2f}\".format(np.equal(test_labels, test_predictions).float().mean()))"
   ]
  },
  {
   "cell_type": "markdown",
   "id": "2b1dfb5a",
   "metadata": {
    "pycharm": {
     "name": "#%% md\n"
    }
   },
   "source": [
    "За счет переданных в функцию потерь весов классов, модель научилась предсказывать названия провинций. Было проверено, что без данного шага модель бы всегда предсказывала одну и ту же провинцию 皖, т.к. среди тренировочных данных в основном были номера из провинции 皖. Для тестовых примеров с номера автомобилей из других провинций, модель правильно предсказала провинцию в 89%.\n",
    "\n",
    "В дальнейшем можно улучшить предсказание провинции с помощью аугментации и насыщения корпуса изображениями с провинциями, которые встречаются редко."
   ]
  },
  {
   "cell_type": "code",
   "execution_count": 15,
   "id": "54e2d984",
   "metadata": {
    "pycharm": {
     "name": "#%%\n"
    }
   },
   "outputs": [
    {
     "name": "stdout",
     "output_type": "stream",
     "text": [
      "Ошибки предсказания провинции: (количество, истинное значение, предсказанное)\n",
      "(19, '皖', '浙')\n",
      "(9, '皖', '鲁')\n",
      "(5, '皖', '渝')\n",
      "(5, '皖', '沪')\n",
      "(4, '皖', '粤')\n",
      "(4, '皖', '湘')\n",
      "(3, '赣', '浙')\n",
      "(3, '蒙', '豫')\n",
      "(3, '皖', '鄂')\n",
      "(3, '皖', '苏')\n",
      "(3, '晋', '辽')\n",
      "(3, '新', '浙')\n",
      "(2, '鲁', '津')\n",
      "(2, '蒙', '苏')\n",
      "(2, '苏', '赣')\n",
      "(2, '苏', '浙')\n",
      "(2, '皖', '闽')\n",
      "(2, '皖', '豫')\n",
      "(2, '皖', '冀')\n",
      "(2, '湘', '闽')\n",
      "(1, '黑', '皖')\n",
      "(1, '黑', '津')\n",
      "(1, '黑', '冀')\n",
      "(1, '青', '川')\n",
      "(1, '陕', '闽')\n",
      "(1, '陕', '赣')\n",
      "(1, '陕', '豫')\n",
      "(1, '陕', '浙')\n",
      "(1, '陕', '冀')\n",
      "(1, '闽', '皖')\n",
      "(1, '鄂', '豫')\n",
      "(1, '鄂', '皖')\n",
      "(1, '辽', '皖')\n",
      "(1, '赣', '津')\n",
      "(1, '贵', '皖')\n",
      "(1, '贵', '冀')\n",
      "(1, '豫', '冀')\n",
      "(1, '苏', '皖')\n",
      "(1, '皖', '津')\n",
      "(1, '皖', '川')\n",
      "(1, '甘', '川')\n",
      "(1, '琼', '粤')\n",
      "(1, '湘', '赣')\n",
      "(1, '湘', '苏')\n",
      "(1, '湘', '浙')\n",
      "(1, '渝', '沪')\n",
      "(1, '浙', '皖')\n",
      "(1, '浙', '津')\n",
      "(1, '新', '皖')\n",
      "(1, '宁', '沪')\n",
      "(1, '吉', '皖')\n",
      "(1, '冀', '豫')\n",
      "(1, '云', '皖')\n",
      "(1, '云', '浙')\n"
     ]
    }
   ],
   "source": [
    "mask = test_labels[:, 0] != test_predictions[:, 0]\n",
    "pairs, counts = np.unique([province_map_rev[a] + province_map_rev[b] for a, b in zip(test_labels[mask, 0].numpy(), test_predictions[mask, 0].numpy())], return_counts=True)\n",
    "print(\"Ошибки предсказания провинции: (количество, истинное значение, предсказанное)\")\n",
    "print(*sorted([(counts[i], pairs[i][0], pairs[i][1], ) for i in range(len(pairs))], reverse=True), sep=\"\\n\")"
   ]
  },
  {
   "cell_type": "code",
   "execution_count": 16,
   "id": "e8b336d1",
   "metadata": {
    "pycharm": {
     "name": "#%%\n"
    }
   },
   "outputs": [
    {
     "name": "stdout",
     "output_type": "stream",
     "text": [
      "Процент правильно предсказанных провинций, отличных от 皖: 89.37%\n"
     ]
    }
   ],
   "source": [
    "value = ((test_labels[:, 0] != 1) & (test_labels[:, 0] == test_predictions[:, 0])).sum() / (test_labels[:, 0] != 1).sum()\n",
    "print(f\"Процент правильно предсказанных провинций, отличных от 皖: {round(value.item() * 100, 2)}%\")"
   ]
  },
  {
   "cell_type": "markdown",
   "id": "df351a47",
   "metadata": {
    "pycharm": {
     "name": "#%% md\n"
    }
   },
   "source": [
    "Среди цифр модель чаще всего ошибалась в парах A-4, 1-7, 0-1, 1-L. Можно сказать, что модель путается в похожих по очертаниям символах."
   ]
  },
  {
   "cell_type": "code",
   "execution_count": 21,
   "id": "1da84f88",
   "metadata": {
    "pycharm": {
     "name": "#%%\n"
    },
    "scrolled": true
   },
   "outputs": [
    {
     "name": "stdout",
     "output_type": "stream",
     "text": [
      "Ошибки предсказания символов и цифр: (количество, истинное значение, предсказанное)\n",
      "(27, '0', '1')\n",
      "(14, '0', '7')\n",
      "(8, '0', '2')\n",
      "(6, '0', '6')\n",
      "(4, '0', '8')\n",
      "(3, '0', '9')\n",
      "(3, '0', '4')\n",
      "(3, '0', '3')\n",
      "(1, '0', 'A')\n",
      "(1, '0', '5')\n"
     ]
    }
   ],
   "source": [
    "mask = test_labels[:, 1:] != test_predictions[:, 1:]\n",
    "pairs, counts = np.unique([symbol_map_rev[a] + symbol_map_rev[b] for a, b in zip(test_labels[:, 1:][mask].numpy(), test_predictions[:, 1:][mask].numpy())], return_counts=True)\n",
    "print(\"Ошибки предсказания символов и цифр: (количество, истинное значение, предсказанное)\")\n",
    "print(*sorted([(counts[i], pairs[i][0], pairs[i][1], ) for i in range(len(pairs))][:10], reverse=True), sep=\"\\n\")"
   ]
  },
  {
   "cell_type": "code",
   "execution_count": 18,
   "id": "1ca10b9c",
   "metadata": {
    "pycharm": {
     "name": "#%%\n"
    }
   },
   "outputs": [
    {
     "name": "stdout",
     "output_type": "stream",
     "text": [
      "Число ошибок - количество тестовых примеров с данным числом ошибок\n",
      "(0, 9126)\n",
      "(1, 619)\n",
      "(2, 155)\n",
      "(3, 53)\n",
      "(4, 31)\n",
      "(5, 11)\n",
      "(6, 4)\n"
     ]
    }
   ],
   "source": [
    "n_errors = (test_labels != test_predictions).sum(axis=1)\n",
    "print(\"Число ошибок - количество тестовых примеров с данным числом ошибок\")\n",
    "print(*list(zip(*np.unique(n_errors, return_counts=True))), sep=\"\\n\")"
   ]
  },
  {
   "cell_type": "markdown",
   "id": "0931aaa4",
   "metadata": {
    "pycharm": {
     "name": "#%% md\n"
    }
   },
   "source": [
    "Тестовые примеры, в которых модель полностью или почти полностью ошибалась, это, в основном, большие изображения не вмещающиеся в рамки 128 х 400. То есть это по сути не столько ошибка модели, сколько ошибка на этапе препроцессинга. Возможно, вместо CenterCrop, нужно было использовать Resize. В части примеров, модель предсказывает правильно символы, которые попали внутри рамки, но ее предсказание смещено. Если бы использовалось расстояние Левенштейна, то эти примеры имели меньше ошибок."
   ]
  },
  {
   "cell_type": "code",
   "execution_count": 19,
   "id": "ca446605",
   "metadata": {
    "pycharm": {
     "name": "#%%\n"
    }
   },
   "outputs": [
    {
     "name": "stdout",
     "output_type": "stream",
     "text": [
      "True: 皖ABJ356, pred: 浙AJ356L\n"
     ]
    },
    {
     "data": {
      "image/png": "[encoded data removed]",
      "text/plain": [
       "<Figure size 200x100 with 1 Axes>"
      ]
     },
     "metadata": {},
     "output_type": "display_data"
    },
    {
     "name": "stdout",
     "output_type": "stream",
     "text": [
      "True: 皖CL6D00, pred: 苏A76111\n"
     ]
    },
    {
     "data": {
      "image/png": "[encoded data removed]",
      "text/plain": [
       "<Figure size 200x100 with 1 Axes>"
      ]
     },
     "metadata": {},
     "output_type": "display_data"
    },
    {
     "name": "stdout",
     "output_type": "stream",
     "text": [
      "True: 吉BTW976, pred: 皖ADWA97\n"
     ]
    },
    {
     "data": {
      "image/png": "[encoded data removed]",
      "text/plain": [
       "<Figure size 200x100 with 1 Axes>"
      ]
     },
     "metadata": {},
     "output_type": "display_data"
    },
    {
     "name": "stdout",
     "output_type": "stream",
     "text": [
      "True: 皖LXG035, pred: 湘AXCG13\n"
     ]
    },
    {
     "data": {
      "image/png": "[encoded data removed]",
      "text/plain": [
       "<Figure size 200x100 with 1 Axes>"
      ]
     },
     "metadata": {},
     "output_type": "display_data"
    }
   ],
   "source": [
    "n_errors = (test_labels != test_predictions).sum(axis=1)\n",
    "\n",
    "for idx in np.arange(len(test_dataset))[n_errors == 6]:\n",
    "    plt.figure(figsize=(2, 1))\n",
    "    plt.imshow((test_dataset[idx][\"img\"].permute(1, 2, 0) * 255).to(torch.uint8), cmap=\"gray\")\n",
    "    print(f\"True: {convert_labels_to_name(test_labels[idx].numpy())}, pred: {convert_labels_to_name(test_predictions[idx].numpy())}\")\n",
    "    plt.axis('off')\n",
    "    plt.show()"
   ]
  },
  {
   "cell_type": "code",
   "execution_count": 20,
   "id": "8a72f8c4",
   "metadata": {
    "pycharm": {
     "name": "#%%\n"
    }
   },
   "outputs": [
    {
     "name": "stdout",
     "output_type": "stream",
     "text": [
      "True: 皖AVD028, pred: 皖AJ1265\n"
     ]
    },
    {
     "data": {
      "image/png": "[encoded data removed]",
      "text/plain": [
       "<Figure size 200x100 with 1 Axes>"
      ]
     },
     "metadata": {},
     "output_type": "display_data"
    },
    {
     "name": "stdout",
     "output_type": "stream",
     "text": [
      "True: 皖RL222P, pred: 皖AG727S\n"
     ]
    },
    {
     "data": {
      "image/png": "[encoded data removed]",
      "text/plain": [
       "<Figure size 200x100 with 1 Axes>"
      ]
     },
     "metadata": {},
     "output_type": "display_data"
    },
    {
     "name": "stdout",
     "output_type": "stream",
     "text": [
      "True: 皖A83453, pred: 鲁BFK463\n"
     ]
    },
    {
     "data": {
      "image/png": "[encoded data removed]",
      "text/plain": [
       "<Figure size 200x100 with 1 Axes>"
      ]
     },
     "metadata": {},
     "output_type": "display_data"
    },
    {
     "name": "stdout",
     "output_type": "stream",
     "text": [
      "True: 皖NTA088, pred: 皖AJ4108\n"
     ]
    },
    {
     "data": {
      "image/png": "[encoded data removed]",
      "text/plain": [
       "<Figure size 200x100 with 1 Axes>"
      ]
     },
     "metadata": {},
     "output_type": "display_data"
    },
    {
     "name": "stdout",
     "output_type": "stream",
     "text": [
      "True: 皖SY0932, pred: 皖AYC163\n"
     ]
    },
    {
     "data": {
      "image/png": "[encoded data removed]",
      "text/plain": [
       "<Figure size 200x100 with 1 Axes>"
      ]
     },
     "metadata": {},
     "output_type": "display_data"
    },
    {
     "name": "stdout",
     "output_type": "stream",
     "text": [
      "True: 苏B200QB, pred: 苏A2CH1Q\n"
     ]
    },
    {
     "data": {
      "image/png": "[encoded data removed]",
      "text/plain": [
       "<Figure size 200x100 with 1 Axes>"
      ]
     },
     "metadata": {},
     "output_type": "display_data"
    },
    {
     "name": "stdout",
     "output_type": "stream",
     "text": [
      "True: 皖N1G886, pred: 粤AYG823\n"
     ]
    },
    {
     "data": {
      "image/png": "[encoded data removed]",
      "text/plain": [
       "<Figure size 200x100 with 1 Axes>"
      ]
     },
     "metadata": {},
     "output_type": "display_data"
    },
    {
     "name": "stdout",
     "output_type": "stream",
     "text": [
      "True: 鄂A02SU9, pred: 皖A1262U\n"
     ]
    },
    {
     "data": {
      "image/png": "[encoded data removed]",
      "text/plain": [
       "<Figure size 200x100 with 1 Axes>"
      ]
     },
     "metadata": {},
     "output_type": "display_data"
    },
    {
     "name": "stdout",
     "output_type": "stream",
     "text": [
      "True: 皖A75W76, pred: 皖7Z5J91\n"
     ]
    },
    {
     "data": {
      "image/png": "[encoded data removed]",
      "text/plain": [
       "<Figure size 200x100 with 1 Axes>"
      ]
     },
     "metadata": {},
     "output_type": "display_data"
    },
    {
     "name": "stdout",
     "output_type": "stream",
     "text": [
      "True: 皖AK927W, pred: 皖A246A4\n"
     ]
    },
    {
     "data": {
      "image/png": "[encoded data removed]",
      "text/plain": [
       "<Figure size 200x100 with 1 Axes>"
      ]
     },
     "metadata": {},
     "output_type": "display_data"
    },
    {
     "name": "stdout",
     "output_type": "stream",
     "text": [
      "True: 皖EW666K, pred: 豫AK6656\n"
     ]
    },
    {
     "data": {
      "image/png": "[encoded data removed]",
      "text/plain": [
       "<Figure size 200x100 with 1 Axes>"
      ]
     },
     "metadata": {},
     "output_type": "display_data"
    }
   ],
   "source": [
    "n_errors = (test_labels != test_predictions).sum(axis=1)\n",
    "\n",
    "for idx in np.arange(len(test_dataset))[n_errors == 5]:\n",
    "    plt.figure(figsize=(2, 1))\n",
    "    plt.imshow((test_dataset[idx][\"img\"].permute(1, 2, 0) * 255).to(torch.uint8), cmap=\"gray\")\n",
    "    print(f\"True: {convert_labels_to_name(test_labels[idx].numpy())}, pred: {convert_labels_to_name(test_predictions[idx].numpy())}\")\n",
    "    plt.axis('off')\n",
    "    plt.show()"
   ]
  },
  {
   "cell_type": "code",
   "execution_count": null,
   "id": "954ec990",
   "metadata": {
    "pycharm": {
     "name": "#%%\n"
    }
   },
   "outputs": [],
   "source": []
  }
 ],
 "metadata": {
  "kernelspec": {
   "display_name": "Python 3 (ipykernel)",
   "language": "python",
   "name": "python3"
  },
  "language_info": {
   "codemirror_mode": {
    "name": "ipython",
    "version": 3
   },
   "file_extension": ".py",
   "mimetype": "text/x-python",
   "name": "python",
   "nbconvert_exporter": "python",
   "pygments_lexer": "ipython3",
   "version": "3.10.8"
  }
 },
 "nbformat": 4,
 "nbformat_minor": 5
}